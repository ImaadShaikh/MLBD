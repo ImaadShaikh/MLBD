{
  "nbformat": 4,
  "nbformat_minor": 0,
  "metadata": {
    "colab": {
      "provenance": []
    },
    "kernelspec": {
      "name": "python3",
      "display_name": "Python 3"
    },
    "language_info": {
      "name": "python"
    }
  },
  "cells": [
    {
      "cell_type": "code",
      "source": [
        "import numpy as np\n",
        "\n",
        "class Perceptron:\n",
        "    def __init__(self, input_size):\n",
        "        # Initialize weights and bias\n",
        "        self.weights = np.random.rand(input_size)\n",
        "        self.bias = np.random.rand()\n",
        "        self.learning_rate = 0.01\n",
        "\n",
        "    def predict(self, inputs):\n",
        "        # Calculate the weighted sum and apply step function\n",
        "        weighted_sum = np.dot(inputs, self.weights) + self.bias\n",
        "        return 1 if weighted_sum > 0 else 0\n",
        "\n",
        "    def train(self, training_inputs, labels, epochs):\n",
        "        for epoch in range(epochs):\n",
        "            for inputs, label in zip(training_inputs, labels):\n",
        "                prediction = self.predict(inputs)\n",
        "                error = label - prediction\n",
        "                # Update weights and bias\n",
        "                self.weights += self.learning_rate * error * inputs\n",
        "                self.bias += self.learning_rate * error"
      ],
      "metadata": {
        "id": "profIEI1lOhh"
      },
      "execution_count": 2,
      "outputs": []
    },
    {
      "cell_type": "code",
      "source": [
        "# Example usage:\n",
        "if __name__ == \"__main__\":\n",
        "    # Define training data (inputs) and labels\n",
        "    training_inputs = np.array([\n",
        "        [0, 0],\n",
        "        [0, 1],\n",
        "        [1, 0],\n",
        "        [1, 1]\n",
        "    ])\n",
        "\n",
        "    labels = np.array([0, 0, 0, 1])  # OR gate\n",
        "\n",
        "    # Create a single-layer perceptron with 2 input neurons\n",
        "    input_size = 2\n",
        "    perceptron = Perceptron(input_size)\n",
        "\n",
        "    # Train the perceptron\n",
        "    perceptron.train(training_inputs, labels, epochs=1000)\n",
        "\n",
        "    # Test the trained perceptron\n",
        "    test_inputs = np.array([\n",
        "        [0, 0],\n",
        "        [0, 1],\n",
        "        [1, 0],\n",
        "        [1, 1]\n",
        "    ])\n",
        "\n",
        "    for inputs in test_inputs:\n",
        "        prediction = perceptron.predict(inputs)\n",
        "        print(f\"Input: {inputs}, Prediction: {prediction}\")\n"
      ],
      "metadata": {
        "colab": {
          "base_uri": "https://localhost:8080/"
        },
        "id": "3DkA6wUAlZ87",
        "outputId": "075cf314-ca90-413c-ac37-eaf938c4b732"
      },
      "execution_count": 3,
      "outputs": [
        {
          "output_type": "stream",
          "name": "stdout",
          "text": [
            "Input: [0 0], Prediction: 0\n",
            "Input: [0 1], Prediction: 0\n",
            "Input: [1 0], Prediction: 0\n",
            "Input: [1 1], Prediction: 1\n"
          ]
        }
      ]
    },
    {
      "cell_type": "code",
      "source": [
        "# Example usage for AND gate:\n",
        "if __name__ == \"__main__\":\n",
        "    # Define training data (inputs) and labels for AND gate\n",
        "    training_inputs = np.array([\n",
        "        [0, 0],\n",
        "        [0, 1],\n",
        "        [1, 0],\n",
        "        [1, 1]\n",
        "    ])\n",
        "\n",
        "    labels = np.array([0, 0, 0, 1])  # AND gate\n",
        "\n",
        "    # Create a single-layer perceptron with 2 input neurons\n",
        "    input_size = 2\n",
        "    perceptron = Perceptron(input_size)\n",
        "\n",
        "    # Train the perceptron\n",
        "    perceptron.train(training_inputs, labels, epochs=1000)\n",
        "\n",
        "    # Test the trained perceptron\n",
        "    test_inputs = np.array([\n",
        "        [0, 0],\n",
        "        [0, 1],\n",
        "        [1, 0],\n",
        "        [1, 1]\n",
        "    ])\n",
        "\n",
        "    for inputs in test_inputs:\n",
        "        prediction = perceptron.predict(inputs)\n",
        "        print(f\"Input: {inputs}, Prediction: {prediction}\")\n"
      ],
      "metadata": {
        "colab": {
          "base_uri": "https://localhost:8080/"
        },
        "id": "UHDhO2-SlgOS",
        "outputId": "a5130e07-ad12-4527-b6ba-81ac077c556e"
      },
      "execution_count": 4,
      "outputs": [
        {
          "output_type": "stream",
          "name": "stdout",
          "text": [
            "Input: [0 0], Prediction: 0\n",
            "Input: [0 1], Prediction: 0\n",
            "Input: [1 0], Prediction: 0\n",
            "Input: [1 1], Prediction: 1\n"
          ]
        }
      ]
    },
    {
      "cell_type": "code",
      "source": [
        "# Example usage for NAND gate:\n",
        "if __name__ == \"__main__\":\n",
        "    # Define training data (inputs) and labels for NAND gate\n",
        "    training_inputs = np.array([\n",
        "        [0, 0],\n",
        "        [0, 1],\n",
        "        [1, 0],\n",
        "        [1, 1]\n",
        "    ])\n",
        "\n",
        "    labels = np.array([1, 1, 1, 0])  # NAND gate\n",
        "\n",
        "    # Create a single-layer perceptron with 2 input neurons\n",
        "    input_size = 2\n",
        "    perceptron = Perceptron(input_size)\n",
        "\n",
        "    # Train the perceptron\n",
        "    perceptron.train(training_inputs, labels, epochs=1000)\n",
        "\n",
        "    # Test the trained perceptron\n",
        "    test_inputs = np.array([\n",
        "        [0, 0],\n",
        "        [0, 1],\n",
        "        [1, 0],\n",
        "        [1, 1]\n",
        "    ])\n",
        "\n",
        "    for inputs in test_inputs:\n",
        "        prediction = perceptron.predict(inputs)\n",
        "        print(f\"Input: {inputs}, Prediction: {prediction}\")"
      ],
      "metadata": {
        "colab": {
          "base_uri": "https://localhost:8080/"
        },
        "id": "VjFJ-Sz_lo1Z",
        "outputId": "6a2fea1d-ff65-4d05-ced8-c7008b49d424"
      },
      "execution_count": 5,
      "outputs": [
        {
          "output_type": "stream",
          "name": "stdout",
          "text": [
            "Input: [0 0], Prediction: 1\n",
            "Input: [0 1], Prediction: 1\n",
            "Input: [1 0], Prediction: 1\n",
            "Input: [1 1], Prediction: 0\n"
          ]
        }
      ]
    },
    {
      "cell_type": "code",
      "source": [
        "# Example usage for NOR gate:\n",
        "if __name__ == \"__main__\":\n",
        "    # Define training data (inputs) and labels for NOR gate\n",
        "    training_inputs = np.array([\n",
        "        [0, 0],\n",
        "        [0, 1],\n",
        "        [1, 0],\n",
        "        [1, 1]\n",
        "    ])\n",
        "\n",
        "    labels = np.array([1, 0, 0, 0])  # NOR gate\n",
        "\n",
        "    # Create a single-layer perceptron with 2 input neurons\n",
        "    input_size = 2\n",
        "    perceptron = Perceptron(input_size)\n",
        "\n",
        "    # Train the perceptron\n",
        "    perceptron.train(training_inputs, labels, epochs=1000)\n",
        "\n",
        "    # Test the trained perceptron\n",
        "    test_inputs = np.array([\n",
        "        [0, 0],\n",
        "        [0, 1],\n",
        "        [1, 0],\n",
        "        [1, 1]\n",
        "    ])\n",
        "\n",
        "    for inputs in test_inputs:\n",
        "        prediction = perceptron.predict(inputs)\n",
        "        print(f\"Input: {inputs}, Prediction: {prediction}\")"
      ],
      "metadata": {
        "colab": {
          "base_uri": "https://localhost:8080/"
        },
        "id": "xdwhDH2-lyKo",
        "outputId": "6ab3ba10-3566-4ef5-ea0c-0c3d8602d084"
      },
      "execution_count": 6,
      "outputs": [
        {
          "output_type": "stream",
          "name": "stdout",
          "text": [
            "Input: [0 0], Prediction: 1\n",
            "Input: [0 1], Prediction: 0\n",
            "Input: [1 0], Prediction: 0\n",
            "Input: [1 1], Prediction: 0\n"
          ]
        }
      ]
    },
    {
      "cell_type": "code",
      "source": [
        "class SingleLayerNeuralNetwork:\n",
        "    def __init__(self, input_size):\n",
        "        # Initialize weights and bias\n",
        "        self.weights = np.random.rand(input_size)\n",
        "        self.bias = np.random.rand()\n",
        "        self.learning_rate = 0.1\n",
        "\n",
        "    def sigmoid(self, x):\n",
        "        return 1 / (1 + np.exp(-x))\n",
        "\n",
        "    def sigmoid_derivative(self, x):\n",
        "        return x * (1 - x)\n",
        "\n",
        "    def predict(self, inputs):\n",
        "        # Calculate the weighted sum and apply sigmoid activation\n",
        "        weighted_sum = np.dot(inputs, self.weights) + self.bias\n",
        "        return self.sigmoid(weighted_sum)\n",
        "\n",
        "    def train(self, training_inputs, labels, epochs):\n",
        "        for epoch in range(epochs):\n",
        "            for inputs, label in zip(training_inputs, labels):\n",
        "                # Forward pass\n",
        "                prediction = self.predict(inputs)\n",
        "\n",
        "                # Calculate error\n",
        "                error = label - prediction\n",
        "\n",
        "                # Backpropagation\n",
        "                # Update weights and bias using gradient descent\n",
        "                self.weights += self.learning_rate * error * self.sigmoid_derivative(prediction) * inputs\n",
        "                self.bias += self.learning_rate * error * self.sigmoid_derivative(prediction)\n",
        "\n",
        "# Example usage for XOR function:\n",
        "if __name__ == \"__main__\":\n",
        "    # Define training data (inputs) and labels for XOR\n",
        "    training_inputs = np.array([\n",
        "        [0, 0],\n",
        "        [0, 1],\n",
        "        [1, 0],\n",
        "        [1, 1]\n",
        "    ])\n",
        "\n",
        "    labels = np.array([0, 1, 1, 0])\n",
        "\n",
        "    # Create a single-layer neural network with 2 input neurons\n",
        "    input_size = 2\n",
        "    neural_network = SingleLayerNeuralNetwork(input_size)\n",
        "\n",
        "    # Train the neural network\n",
        "    neural_network.train(training_inputs, labels, epochs=10000)\n",
        "\n",
        "    # Test the trained neural network\n",
        "    test_inputs = np.array([\n",
        "        [0, 0],\n",
        "        [0, 1],\n",
        "        [1, 0],\n",
        "        [1, 1]\n",
        "    ])\n",
        "\n",
        "    for inputs in test_inputs:\n",
        "        prediction = neural_network.predict(inputs)\n",
        "        print(f\"Input: {inputs}, Prediction: {prediction}\")\n"
      ],
      "metadata": {
        "id": "bTA1hqFBl7_E",
        "outputId": "21f144b5-2853-4c9e-a0ca-665990247e9a",
        "colab": {
          "base_uri": "https://localhost:8080/"
        }
      },
      "execution_count": 7,
      "outputs": [
        {
          "output_type": "stream",
          "name": "stdout",
          "text": [
            "Input: [0 0], Prediction: 0.5031444872132192\n",
            "Input: [0 1], Prediction: 0.5000000000000001\n",
            "Input: [1 0], Prediction: 0.4968555127867807\n",
            "Input: [1 1], Prediction: 0.49371127430020534\n"
          ]
        }
      ]
    }
  ]
}