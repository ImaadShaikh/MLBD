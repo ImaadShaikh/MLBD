{
  "nbformat": 4,
  "nbformat_minor": 0,
  "metadata": {
    "colab": {
      "provenance": []
    },
    "kernelspec": {
      "name": "python3",
      "display_name": "Python 3"
    },
    "language_info": {
      "name": "python"
    }
  },
  "cells": [
    {
      "cell_type": "code",
      "source": [
        "!pip install tensorflow\n",
        "!pip install keras"
      ],
      "metadata": {
        "colab": {
          "base_uri": "https://localhost:8080/"
        },
        "id": "knQaHJb1Oooq",
        "outputId": "b99a2293-055a-4f56-c7ca-596e044542e1"
      },
      "execution_count": 1,
      "outputs": [
        {
          "output_type": "stream",
          "name": "stdout",
          "text": [
            "Requirement already satisfied: tensorflow in /usr/local/lib/python3.10/dist-packages (2.15.0)\n",
            "Requirement already satisfied: absl-py>=1.0.0 in /usr/local/lib/python3.10/dist-packages (from tensorflow) (1.4.0)\n",
            "Requirement already satisfied: astunparse>=1.6.0 in /usr/local/lib/python3.10/dist-packages (from tensorflow) (1.6.3)\n",
            "Requirement already satisfied: flatbuffers>=23.5.26 in /usr/local/lib/python3.10/dist-packages (from tensorflow) (23.5.26)\n",
            "Requirement already satisfied: gast!=0.5.0,!=0.5.1,!=0.5.2,>=0.2.1 in /usr/local/lib/python3.10/dist-packages (from tensorflow) (0.5.4)\n",
            "Requirement already satisfied: google-pasta>=0.1.1 in /usr/local/lib/python3.10/dist-packages (from tensorflow) (0.2.0)\n",
            "Requirement already satisfied: h5py>=2.9.0 in /usr/local/lib/python3.10/dist-packages (from tensorflow) (3.9.0)\n",
            "Requirement already satisfied: libclang>=13.0.0 in /usr/local/lib/python3.10/dist-packages (from tensorflow) (16.0.6)\n",
            "Requirement already satisfied: ml-dtypes~=0.2.0 in /usr/local/lib/python3.10/dist-packages (from tensorflow) (0.2.0)\n",
            "Requirement already satisfied: numpy<2.0.0,>=1.23.5 in /usr/local/lib/python3.10/dist-packages (from tensorflow) (1.23.5)\n",
            "Requirement already satisfied: opt-einsum>=2.3.2 in /usr/local/lib/python3.10/dist-packages (from tensorflow) (3.3.0)\n",
            "Requirement already satisfied: packaging in /usr/local/lib/python3.10/dist-packages (from tensorflow) (23.2)\n",
            "Requirement already satisfied: protobuf!=4.21.0,!=4.21.1,!=4.21.2,!=4.21.3,!=4.21.4,!=4.21.5,<5.0.0dev,>=3.20.3 in /usr/local/lib/python3.10/dist-packages (from tensorflow) (3.20.3)\n",
            "Requirement already satisfied: setuptools in /usr/local/lib/python3.10/dist-packages (from tensorflow) (67.7.2)\n",
            "Requirement already satisfied: six>=1.12.0 in /usr/local/lib/python3.10/dist-packages (from tensorflow) (1.16.0)\n",
            "Requirement already satisfied: termcolor>=1.1.0 in /usr/local/lib/python3.10/dist-packages (from tensorflow) (2.4.0)\n",
            "Requirement already satisfied: typing-extensions>=3.6.6 in /usr/local/lib/python3.10/dist-packages (from tensorflow) (4.5.0)\n",
            "Requirement already satisfied: wrapt<1.15,>=1.11.0 in /usr/local/lib/python3.10/dist-packages (from tensorflow) (1.14.1)\n",
            "Requirement already satisfied: tensorflow-io-gcs-filesystem>=0.23.1 in /usr/local/lib/python3.10/dist-packages (from tensorflow) (0.35.0)\n",
            "Requirement already satisfied: grpcio<2.0,>=1.24.3 in /usr/local/lib/python3.10/dist-packages (from tensorflow) (1.60.0)\n",
            "Requirement already satisfied: tensorboard<2.16,>=2.15 in /usr/local/lib/python3.10/dist-packages (from tensorflow) (2.15.1)\n",
            "Requirement already satisfied: tensorflow-estimator<2.16,>=2.15.0 in /usr/local/lib/python3.10/dist-packages (from tensorflow) (2.15.0)\n",
            "Requirement already satisfied: keras<2.16,>=2.15.0 in /usr/local/lib/python3.10/dist-packages (from tensorflow) (2.15.0)\n",
            "Requirement already satisfied: wheel<1.0,>=0.23.0 in /usr/local/lib/python3.10/dist-packages (from astunparse>=1.6.0->tensorflow) (0.42.0)\n",
            "Requirement already satisfied: google-auth<3,>=1.6.3 in /usr/local/lib/python3.10/dist-packages (from tensorboard<2.16,>=2.15->tensorflow) (2.17.3)\n",
            "Requirement already satisfied: google-auth-oauthlib<2,>=0.5 in /usr/local/lib/python3.10/dist-packages (from tensorboard<2.16,>=2.15->tensorflow) (1.2.0)\n",
            "Requirement already satisfied: markdown>=2.6.8 in /usr/local/lib/python3.10/dist-packages (from tensorboard<2.16,>=2.15->tensorflow) (3.5.2)\n",
            "Requirement already satisfied: requests<3,>=2.21.0 in /usr/local/lib/python3.10/dist-packages (from tensorboard<2.16,>=2.15->tensorflow) (2.31.0)\n",
            "Requirement already satisfied: tensorboard-data-server<0.8.0,>=0.7.0 in /usr/local/lib/python3.10/dist-packages (from tensorboard<2.16,>=2.15->tensorflow) (0.7.2)\n",
            "Requirement already satisfied: werkzeug>=1.0.1 in /usr/local/lib/python3.10/dist-packages (from tensorboard<2.16,>=2.15->tensorflow) (3.0.1)\n",
            "Requirement already satisfied: cachetools<6.0,>=2.0.0 in /usr/local/lib/python3.10/dist-packages (from google-auth<3,>=1.6.3->tensorboard<2.16,>=2.15->tensorflow) (5.3.2)\n",
            "Requirement already satisfied: pyasn1-modules>=0.2.1 in /usr/local/lib/python3.10/dist-packages (from google-auth<3,>=1.6.3->tensorboard<2.16,>=2.15->tensorflow) (0.3.0)\n",
            "Requirement already satisfied: rsa<5,>=3.1.4 in /usr/local/lib/python3.10/dist-packages (from google-auth<3,>=1.6.3->tensorboard<2.16,>=2.15->tensorflow) (4.9)\n",
            "Requirement already satisfied: requests-oauthlib>=0.7.0 in /usr/local/lib/python3.10/dist-packages (from google-auth-oauthlib<2,>=0.5->tensorboard<2.16,>=2.15->tensorflow) (1.3.1)\n",
            "Requirement already satisfied: charset-normalizer<4,>=2 in /usr/local/lib/python3.10/dist-packages (from requests<3,>=2.21.0->tensorboard<2.16,>=2.15->tensorflow) (3.3.2)\n",
            "Requirement already satisfied: idna<4,>=2.5 in /usr/local/lib/python3.10/dist-packages (from requests<3,>=2.21.0->tensorboard<2.16,>=2.15->tensorflow) (3.6)\n",
            "Requirement already satisfied: urllib3<3,>=1.21.1 in /usr/local/lib/python3.10/dist-packages (from requests<3,>=2.21.0->tensorboard<2.16,>=2.15->tensorflow) (2.0.7)\n",
            "Requirement already satisfied: certifi>=2017.4.17 in /usr/local/lib/python3.10/dist-packages (from requests<3,>=2.21.0->tensorboard<2.16,>=2.15->tensorflow) (2023.11.17)\n",
            "Requirement already satisfied: MarkupSafe>=2.1.1 in /usr/local/lib/python3.10/dist-packages (from werkzeug>=1.0.1->tensorboard<2.16,>=2.15->tensorflow) (2.1.4)\n",
            "Requirement already satisfied: pyasn1<0.6.0,>=0.4.6 in /usr/local/lib/python3.10/dist-packages (from pyasn1-modules>=0.2.1->google-auth<3,>=1.6.3->tensorboard<2.16,>=2.15->tensorflow) (0.5.1)\n",
            "Requirement already satisfied: oauthlib>=3.0.0 in /usr/local/lib/python3.10/dist-packages (from requests-oauthlib>=0.7.0->google-auth-oauthlib<2,>=0.5->tensorboard<2.16,>=2.15->tensorflow) (3.2.2)\n",
            "Requirement already satisfied: keras in /usr/local/lib/python3.10/dist-packages (2.15.0)\n"
          ]
        }
      ]
    },
    {
      "cell_type": "code",
      "execution_count": 2,
      "metadata": {
        "id": "AuIc5DPrMu20"
      },
      "outputs": [],
      "source": [
        "import numpy as np\n",
        "import pandas as pd\n",
        "import matplotlib.pyplot as plt\n"
      ]
    },
    {
      "cell_type": "code",
      "source": [
        "from google.colab import drive\n",
        "drive.mount('/content/drive')"
      ],
      "metadata": {
        "colab": {
          "base_uri": "https://localhost:8080/"
        },
        "id": "euq_HmGUNMwk",
        "outputId": "b4c66167-be52-4d64-9e86-31cf6ca6b9ca"
      },
      "execution_count": 4,
      "outputs": [
        {
          "output_type": "stream",
          "name": "stdout",
          "text": [
            "Mounted at /content/drive\n"
          ]
        }
      ]
    },
    {
      "cell_type": "code",
      "source": [
        "dataset  = pd.read_csv('drive/My Drive/FML Lab/diabetes.csv')\n",
        "dataset"
      ],
      "metadata": {
        "colab": {
          "base_uri": "https://localhost:8080/",
          "height": 423
        },
        "id": "Y2PJdk6ENfNO",
        "outputId": "e1aae706-ed85-4476-f80b-a1baad15e6bb"
      },
      "execution_count": 5,
      "outputs": [
        {
          "output_type": "execute_result",
          "data": {
            "text/plain": [
              "     Pregnancies  Glucose  BloodPressure  SkinThickness  Insulin   BMI  \\\n",
              "0              6      148             72             35        0  33.6   \n",
              "1              1       85             66             29        0  26.6   \n",
              "2              8      183             64              0        0  23.3   \n",
              "3              1       89             66             23       94  28.1   \n",
              "4              0      137             40             35      168  43.1   \n",
              "..           ...      ...            ...            ...      ...   ...   \n",
              "763           10      101             76             48      180  32.9   \n",
              "764            2      122             70             27        0  36.8   \n",
              "765            5      121             72             23      112  26.2   \n",
              "766            1      126             60              0        0  30.1   \n",
              "767            1       93             70             31        0  30.4   \n",
              "\n",
              "     DiabetesPedigreeFunction  Age  Outcome  \n",
              "0                       0.627   50        1  \n",
              "1                       0.351   31        0  \n",
              "2                       0.672   32        1  \n",
              "3                       0.167   21        0  \n",
              "4                       2.288   33        1  \n",
              "..                        ...  ...      ...  \n",
              "763                     0.171   63        0  \n",
              "764                     0.340   27        0  \n",
              "765                     0.245   30        0  \n",
              "766                     0.349   47        1  \n",
              "767                     0.315   23        0  \n",
              "\n",
              "[768 rows x 9 columns]"
            ],
            "text/html": [
              "\n",
              "  <div id=\"df-ef47ebba-a5ba-4bc9-a399-4d51a7eeb3b5\" class=\"colab-df-container\">\n",
              "    <div>\n",
              "<style scoped>\n",
              "    .dataframe tbody tr th:only-of-type {\n",
              "        vertical-align: middle;\n",
              "    }\n",
              "\n",
              "    .dataframe tbody tr th {\n",
              "        vertical-align: top;\n",
              "    }\n",
              "\n",
              "    .dataframe thead th {\n",
              "        text-align: right;\n",
              "    }\n",
              "</style>\n",
              "<table border=\"1\" class=\"dataframe\">\n",
              "  <thead>\n",
              "    <tr style=\"text-align: right;\">\n",
              "      <th></th>\n",
              "      <th>Pregnancies</th>\n",
              "      <th>Glucose</th>\n",
              "      <th>BloodPressure</th>\n",
              "      <th>SkinThickness</th>\n",
              "      <th>Insulin</th>\n",
              "      <th>BMI</th>\n",
              "      <th>DiabetesPedigreeFunction</th>\n",
              "      <th>Age</th>\n",
              "      <th>Outcome</th>\n",
              "    </tr>\n",
              "  </thead>\n",
              "  <tbody>\n",
              "    <tr>\n",
              "      <th>0</th>\n",
              "      <td>6</td>\n",
              "      <td>148</td>\n",
              "      <td>72</td>\n",
              "      <td>35</td>\n",
              "      <td>0</td>\n",
              "      <td>33.6</td>\n",
              "      <td>0.627</td>\n",
              "      <td>50</td>\n",
              "      <td>1</td>\n",
              "    </tr>\n",
              "    <tr>\n",
              "      <th>1</th>\n",
              "      <td>1</td>\n",
              "      <td>85</td>\n",
              "      <td>66</td>\n",
              "      <td>29</td>\n",
              "      <td>0</td>\n",
              "      <td>26.6</td>\n",
              "      <td>0.351</td>\n",
              "      <td>31</td>\n",
              "      <td>0</td>\n",
              "    </tr>\n",
              "    <tr>\n",
              "      <th>2</th>\n",
              "      <td>8</td>\n",
              "      <td>183</td>\n",
              "      <td>64</td>\n",
              "      <td>0</td>\n",
              "      <td>0</td>\n",
              "      <td>23.3</td>\n",
              "      <td>0.672</td>\n",
              "      <td>32</td>\n",
              "      <td>1</td>\n",
              "    </tr>\n",
              "    <tr>\n",
              "      <th>3</th>\n",
              "      <td>1</td>\n",
              "      <td>89</td>\n",
              "      <td>66</td>\n",
              "      <td>23</td>\n",
              "      <td>94</td>\n",
              "      <td>28.1</td>\n",
              "      <td>0.167</td>\n",
              "      <td>21</td>\n",
              "      <td>0</td>\n",
              "    </tr>\n",
              "    <tr>\n",
              "      <th>4</th>\n",
              "      <td>0</td>\n",
              "      <td>137</td>\n",
              "      <td>40</td>\n",
              "      <td>35</td>\n",
              "      <td>168</td>\n",
              "      <td>43.1</td>\n",
              "      <td>2.288</td>\n",
              "      <td>33</td>\n",
              "      <td>1</td>\n",
              "    </tr>\n",
              "    <tr>\n",
              "      <th>...</th>\n",
              "      <td>...</td>\n",
              "      <td>...</td>\n",
              "      <td>...</td>\n",
              "      <td>...</td>\n",
              "      <td>...</td>\n",
              "      <td>...</td>\n",
              "      <td>...</td>\n",
              "      <td>...</td>\n",
              "      <td>...</td>\n",
              "    </tr>\n",
              "    <tr>\n",
              "      <th>763</th>\n",
              "      <td>10</td>\n",
              "      <td>101</td>\n",
              "      <td>76</td>\n",
              "      <td>48</td>\n",
              "      <td>180</td>\n",
              "      <td>32.9</td>\n",
              "      <td>0.171</td>\n",
              "      <td>63</td>\n",
              "      <td>0</td>\n",
              "    </tr>\n",
              "    <tr>\n",
              "      <th>764</th>\n",
              "      <td>2</td>\n",
              "      <td>122</td>\n",
              "      <td>70</td>\n",
              "      <td>27</td>\n",
              "      <td>0</td>\n",
              "      <td>36.8</td>\n",
              "      <td>0.340</td>\n",
              "      <td>27</td>\n",
              "      <td>0</td>\n",
              "    </tr>\n",
              "    <tr>\n",
              "      <th>765</th>\n",
              "      <td>5</td>\n",
              "      <td>121</td>\n",
              "      <td>72</td>\n",
              "      <td>23</td>\n",
              "      <td>112</td>\n",
              "      <td>26.2</td>\n",
              "      <td>0.245</td>\n",
              "      <td>30</td>\n",
              "      <td>0</td>\n",
              "    </tr>\n",
              "    <tr>\n",
              "      <th>766</th>\n",
              "      <td>1</td>\n",
              "      <td>126</td>\n",
              "      <td>60</td>\n",
              "      <td>0</td>\n",
              "      <td>0</td>\n",
              "      <td>30.1</td>\n",
              "      <td>0.349</td>\n",
              "      <td>47</td>\n",
              "      <td>1</td>\n",
              "    </tr>\n",
              "    <tr>\n",
              "      <th>767</th>\n",
              "      <td>1</td>\n",
              "      <td>93</td>\n",
              "      <td>70</td>\n",
              "      <td>31</td>\n",
              "      <td>0</td>\n",
              "      <td>30.4</td>\n",
              "      <td>0.315</td>\n",
              "      <td>23</td>\n",
              "      <td>0</td>\n",
              "    </tr>\n",
              "  </tbody>\n",
              "</table>\n",
              "<p>768 rows × 9 columns</p>\n",
              "</div>\n",
              "    <div class=\"colab-df-buttons\">\n",
              "\n",
              "  <div class=\"colab-df-container\">\n",
              "    <button class=\"colab-df-convert\" onclick=\"convertToInteractive('df-ef47ebba-a5ba-4bc9-a399-4d51a7eeb3b5')\"\n",
              "            title=\"Convert this dataframe to an interactive table.\"\n",
              "            style=\"display:none;\">\n",
              "\n",
              "  <svg xmlns=\"http://www.w3.org/2000/svg\" height=\"24px\" viewBox=\"0 -960 960 960\">\n",
              "    <path d=\"M120-120v-720h720v720H120Zm60-500h600v-160H180v160Zm220 220h160v-160H400v160Zm0 220h160v-160H400v160ZM180-400h160v-160H180v160Zm440 0h160v-160H620v160ZM180-180h160v-160H180v160Zm440 0h160v-160H620v160Z\"/>\n",
              "  </svg>\n",
              "    </button>\n",
              "\n",
              "  <style>\n",
              "    .colab-df-container {\n",
              "      display:flex;\n",
              "      gap: 12px;\n",
              "    }\n",
              "\n",
              "    .colab-df-convert {\n",
              "      background-color: #E8F0FE;\n",
              "      border: none;\n",
              "      border-radius: 50%;\n",
              "      cursor: pointer;\n",
              "      display: none;\n",
              "      fill: #1967D2;\n",
              "      height: 32px;\n",
              "      padding: 0 0 0 0;\n",
              "      width: 32px;\n",
              "    }\n",
              "\n",
              "    .colab-df-convert:hover {\n",
              "      background-color: #E2EBFA;\n",
              "      box-shadow: 0px 1px 2px rgba(60, 64, 67, 0.3), 0px 1px 3px 1px rgba(60, 64, 67, 0.15);\n",
              "      fill: #174EA6;\n",
              "    }\n",
              "\n",
              "    .colab-df-buttons div {\n",
              "      margin-bottom: 4px;\n",
              "    }\n",
              "\n",
              "    [theme=dark] .colab-df-convert {\n",
              "      background-color: #3B4455;\n",
              "      fill: #D2E3FC;\n",
              "    }\n",
              "\n",
              "    [theme=dark] .colab-df-convert:hover {\n",
              "      background-color: #434B5C;\n",
              "      box-shadow: 0px 1px 3px 1px rgba(0, 0, 0, 0.15);\n",
              "      filter: drop-shadow(0px 1px 2px rgba(0, 0, 0, 0.3));\n",
              "      fill: #FFFFFF;\n",
              "    }\n",
              "  </style>\n",
              "\n",
              "    <script>\n",
              "      const buttonEl =\n",
              "        document.querySelector('#df-ef47ebba-a5ba-4bc9-a399-4d51a7eeb3b5 button.colab-df-convert');\n",
              "      buttonEl.style.display =\n",
              "        google.colab.kernel.accessAllowed ? 'block' : 'none';\n",
              "\n",
              "      async function convertToInteractive(key) {\n",
              "        const element = document.querySelector('#df-ef47ebba-a5ba-4bc9-a399-4d51a7eeb3b5');\n",
              "        const dataTable =\n",
              "          await google.colab.kernel.invokeFunction('convertToInteractive',\n",
              "                                                    [key], {});\n",
              "        if (!dataTable) return;\n",
              "\n",
              "        const docLinkHtml = 'Like what you see? Visit the ' +\n",
              "          '<a target=\"_blank\" href=https://colab.research.google.com/notebooks/data_table.ipynb>data table notebook</a>'\n",
              "          + ' to learn more about interactive tables.';\n",
              "        element.innerHTML = '';\n",
              "        dataTable['output_type'] = 'display_data';\n",
              "        await google.colab.output.renderOutput(dataTable, element);\n",
              "        const docLink = document.createElement('div');\n",
              "        docLink.innerHTML = docLinkHtml;\n",
              "        element.appendChild(docLink);\n",
              "      }\n",
              "    </script>\n",
              "  </div>\n",
              "\n",
              "\n",
              "<div id=\"df-2018a282-45fc-4bed-a4a8-3a0868119d70\">\n",
              "  <button class=\"colab-df-quickchart\" onclick=\"quickchart('df-2018a282-45fc-4bed-a4a8-3a0868119d70')\"\n",
              "            title=\"Suggest charts\"\n",
              "            style=\"display:none;\">\n",
              "\n",
              "<svg xmlns=\"http://www.w3.org/2000/svg\" height=\"24px\"viewBox=\"0 0 24 24\"\n",
              "     width=\"24px\">\n",
              "    <g>\n",
              "        <path d=\"M19 3H5c-1.1 0-2 .9-2 2v14c0 1.1.9 2 2 2h14c1.1 0 2-.9 2-2V5c0-1.1-.9-2-2-2zM9 17H7v-7h2v7zm4 0h-2V7h2v10zm4 0h-2v-4h2v4z\"/>\n",
              "    </g>\n",
              "</svg>\n",
              "  </button>\n",
              "\n",
              "<style>\n",
              "  .colab-df-quickchart {\n",
              "      --bg-color: #E8F0FE;\n",
              "      --fill-color: #1967D2;\n",
              "      --hover-bg-color: #E2EBFA;\n",
              "      --hover-fill-color: #174EA6;\n",
              "      --disabled-fill-color: #AAA;\n",
              "      --disabled-bg-color: #DDD;\n",
              "  }\n",
              "\n",
              "  [theme=dark] .colab-df-quickchart {\n",
              "      --bg-color: #3B4455;\n",
              "      --fill-color: #D2E3FC;\n",
              "      --hover-bg-color: #434B5C;\n",
              "      --hover-fill-color: #FFFFFF;\n",
              "      --disabled-bg-color: #3B4455;\n",
              "      --disabled-fill-color: #666;\n",
              "  }\n",
              "\n",
              "  .colab-df-quickchart {\n",
              "    background-color: var(--bg-color);\n",
              "    border: none;\n",
              "    border-radius: 50%;\n",
              "    cursor: pointer;\n",
              "    display: none;\n",
              "    fill: var(--fill-color);\n",
              "    height: 32px;\n",
              "    padding: 0;\n",
              "    width: 32px;\n",
              "  }\n",
              "\n",
              "  .colab-df-quickchart:hover {\n",
              "    background-color: var(--hover-bg-color);\n",
              "    box-shadow: 0 1px 2px rgba(60, 64, 67, 0.3), 0 1px 3px 1px rgba(60, 64, 67, 0.15);\n",
              "    fill: var(--button-hover-fill-color);\n",
              "  }\n",
              "\n",
              "  .colab-df-quickchart-complete:disabled,\n",
              "  .colab-df-quickchart-complete:disabled:hover {\n",
              "    background-color: var(--disabled-bg-color);\n",
              "    fill: var(--disabled-fill-color);\n",
              "    box-shadow: none;\n",
              "  }\n",
              "\n",
              "  .colab-df-spinner {\n",
              "    border: 2px solid var(--fill-color);\n",
              "    border-color: transparent;\n",
              "    border-bottom-color: var(--fill-color);\n",
              "    animation:\n",
              "      spin 1s steps(1) infinite;\n",
              "  }\n",
              "\n",
              "  @keyframes spin {\n",
              "    0% {\n",
              "      border-color: transparent;\n",
              "      border-bottom-color: var(--fill-color);\n",
              "      border-left-color: var(--fill-color);\n",
              "    }\n",
              "    20% {\n",
              "      border-color: transparent;\n",
              "      border-left-color: var(--fill-color);\n",
              "      border-top-color: var(--fill-color);\n",
              "    }\n",
              "    30% {\n",
              "      border-color: transparent;\n",
              "      border-left-color: var(--fill-color);\n",
              "      border-top-color: var(--fill-color);\n",
              "      border-right-color: var(--fill-color);\n",
              "    }\n",
              "    40% {\n",
              "      border-color: transparent;\n",
              "      border-right-color: var(--fill-color);\n",
              "      border-top-color: var(--fill-color);\n",
              "    }\n",
              "    60% {\n",
              "      border-color: transparent;\n",
              "      border-right-color: var(--fill-color);\n",
              "    }\n",
              "    80% {\n",
              "      border-color: transparent;\n",
              "      border-right-color: var(--fill-color);\n",
              "      border-bottom-color: var(--fill-color);\n",
              "    }\n",
              "    90% {\n",
              "      border-color: transparent;\n",
              "      border-bottom-color: var(--fill-color);\n",
              "    }\n",
              "  }\n",
              "</style>\n",
              "\n",
              "  <script>\n",
              "    async function quickchart(key) {\n",
              "      const quickchartButtonEl =\n",
              "        document.querySelector('#' + key + ' button');\n",
              "      quickchartButtonEl.disabled = true;  // To prevent multiple clicks.\n",
              "      quickchartButtonEl.classList.add('colab-df-spinner');\n",
              "      try {\n",
              "        const charts = await google.colab.kernel.invokeFunction(\n",
              "            'suggestCharts', [key], {});\n",
              "      } catch (error) {\n",
              "        console.error('Error during call to suggestCharts:', error);\n",
              "      }\n",
              "      quickchartButtonEl.classList.remove('colab-df-spinner');\n",
              "      quickchartButtonEl.classList.add('colab-df-quickchart-complete');\n",
              "    }\n",
              "    (() => {\n",
              "      let quickchartButtonEl =\n",
              "        document.querySelector('#df-2018a282-45fc-4bed-a4a8-3a0868119d70 button');\n",
              "      quickchartButtonEl.style.display =\n",
              "        google.colab.kernel.accessAllowed ? 'block' : 'none';\n",
              "    })();\n",
              "  </script>\n",
              "</div>\n",
              "\n",
              "  <div id=\"id_a851cb15-855b-4282-9748-69577f724e45\">\n",
              "    <style>\n",
              "      .colab-df-generate {\n",
              "        background-color: #E8F0FE;\n",
              "        border: none;\n",
              "        border-radius: 50%;\n",
              "        cursor: pointer;\n",
              "        display: none;\n",
              "        fill: #1967D2;\n",
              "        height: 32px;\n",
              "        padding: 0 0 0 0;\n",
              "        width: 32px;\n",
              "      }\n",
              "\n",
              "      .colab-df-generate:hover {\n",
              "        background-color: #E2EBFA;\n",
              "        box-shadow: 0px 1px 2px rgba(60, 64, 67, 0.3), 0px 1px 3px 1px rgba(60, 64, 67, 0.15);\n",
              "        fill: #174EA6;\n",
              "      }\n",
              "\n",
              "      [theme=dark] .colab-df-generate {\n",
              "        background-color: #3B4455;\n",
              "        fill: #D2E3FC;\n",
              "      }\n",
              "\n",
              "      [theme=dark] .colab-df-generate:hover {\n",
              "        background-color: #434B5C;\n",
              "        box-shadow: 0px 1px 3px 1px rgba(0, 0, 0, 0.15);\n",
              "        filter: drop-shadow(0px 1px 2px rgba(0, 0, 0, 0.3));\n",
              "        fill: #FFFFFF;\n",
              "      }\n",
              "    </style>\n",
              "    <button class=\"colab-df-generate\" onclick=\"generateWithVariable('dataset')\"\n",
              "            title=\"Generate code using this dataframe.\"\n",
              "            style=\"display:none;\">\n",
              "\n",
              "  <svg xmlns=\"http://www.w3.org/2000/svg\" height=\"24px\"viewBox=\"0 0 24 24\"\n",
              "       width=\"24px\">\n",
              "    <path d=\"M7,19H8.4L18.45,9,17,7.55,7,17.6ZM5,21V16.75L18.45,3.32a2,2,0,0,1,2.83,0l1.4,1.43a1.91,1.91,0,0,1,.58,1.4,1.91,1.91,0,0,1-.58,1.4L9.25,21ZM18.45,9,17,7.55Zm-12,3A5.31,5.31,0,0,0,4.9,8.1,5.31,5.31,0,0,0,1,6.5,5.31,5.31,0,0,0,4.9,4.9,5.31,5.31,0,0,0,6.5,1,5.31,5.31,0,0,0,8.1,4.9,5.31,5.31,0,0,0,12,6.5,5.46,5.46,0,0,0,6.5,12Z\"/>\n",
              "  </svg>\n",
              "    </button>\n",
              "    <script>\n",
              "      (() => {\n",
              "      const buttonEl =\n",
              "        document.querySelector('#id_a851cb15-855b-4282-9748-69577f724e45 button.colab-df-generate');\n",
              "      buttonEl.style.display =\n",
              "        google.colab.kernel.accessAllowed ? 'block' : 'none';\n",
              "\n",
              "      buttonEl.onclick = () => {\n",
              "        google.colab.notebook.generateWithVariable('dataset');\n",
              "      }\n",
              "      })();\n",
              "    </script>\n",
              "  </div>\n",
              "\n",
              "    </div>\n",
              "  </div>\n"
            ]
          },
          "metadata": {},
          "execution_count": 5
        }
      ]
    },
    {
      "cell_type": "code",
      "source": [
        "x = dataset.iloc[:,0:8].values\n",
        "x"
      ],
      "metadata": {
        "id": "SUiIW9VtPNfb",
        "colab": {
          "base_uri": "https://localhost:8080/"
        },
        "outputId": "0ae63d43-b922-4589-b0d1-fd38ee36c0b4"
      },
      "execution_count": 6,
      "outputs": [
        {
          "output_type": "execute_result",
          "data": {
            "text/plain": [
              "array([[  6.   , 148.   ,  72.   , ...,  33.6  ,   0.627,  50.   ],\n",
              "       [  1.   ,  85.   ,  66.   , ...,  26.6  ,   0.351,  31.   ],\n",
              "       [  8.   , 183.   ,  64.   , ...,  23.3  ,   0.672,  32.   ],\n",
              "       ...,\n",
              "       [  5.   , 121.   ,  72.   , ...,  26.2  ,   0.245,  30.   ],\n",
              "       [  1.   , 126.   ,  60.   , ...,  30.1  ,   0.349,  47.   ],\n",
              "       [  1.   ,  93.   ,  70.   , ...,  30.4  ,   0.315,  23.   ]])"
            ]
          },
          "metadata": {},
          "execution_count": 6
        }
      ]
    },
    {
      "cell_type": "code",
      "source": [
        "y = dataset.iloc[:,8].values\n",
        "y"
      ],
      "metadata": {
        "id": "644LIE2TPeAh",
        "colab": {
          "base_uri": "https://localhost:8080/"
        },
        "outputId": "b327bb9d-ee93-48d9-b758-8471e46f65b9"
      },
      "execution_count": 7,
      "outputs": [
        {
          "output_type": "execute_result",
          "data": {
            "text/plain": [
              "array([1, 0, 1, 0, 1, 0, 1, 0, 1, 1, 0, 1, 0, 1, 1, 1, 1, 1, 0, 1, 0, 0,\n",
              "       1, 1, 1, 1, 1, 0, 0, 0, 0, 1, 0, 0, 0, 0, 0, 1, 1, 1, 0, 0, 0, 1,\n",
              "       0, 1, 0, 0, 1, 0, 0, 0, 0, 1, 0, 0, 1, 0, 0, 0, 0, 1, 0, 0, 1, 0,\n",
              "       1, 0, 0, 0, 1, 0, 1, 0, 0, 0, 0, 0, 1, 0, 0, 0, 0, 0, 1, 0, 0, 0,\n",
              "       1, 0, 0, 0, 0, 1, 0, 0, 0, 0, 0, 1, 1, 0, 0, 0, 0, 0, 0, 0, 0, 1,\n",
              "       1, 1, 0, 0, 1, 1, 1, 0, 0, 0, 1, 0, 0, 0, 1, 1, 0, 0, 1, 1, 1, 1,\n",
              "       1, 0, 0, 0, 0, 0, 0, 0, 0, 0, 0, 1, 0, 0, 0, 0, 0, 0, 0, 0, 1, 0,\n",
              "       1, 1, 0, 0, 0, 1, 0, 0, 0, 0, 1, 1, 0, 0, 0, 0, 1, 1, 0, 0, 0, 1,\n",
              "       0, 1, 0, 1, 0, 0, 0, 0, 0, 1, 1, 1, 1, 1, 0, 0, 1, 1, 0, 1, 0, 1,\n",
              "       1, 1, 0, 0, 0, 0, 0, 0, 1, 1, 0, 1, 0, 0, 0, 1, 1, 1, 1, 0, 1, 1,\n",
              "       1, 1, 0, 0, 0, 0, 0, 1, 0, 0, 1, 1, 0, 0, 0, 1, 1, 1, 1, 0, 0, 0,\n",
              "       1, 1, 0, 1, 0, 0, 0, 0, 0, 0, 0, 0, 1, 1, 0, 0, 0, 1, 0, 1, 0, 0,\n",
              "       1, 0, 1, 0, 0, 1, 1, 0, 0, 0, 0, 0, 1, 0, 0, 0, 1, 0, 0, 1, 1, 0,\n",
              "       0, 1, 0, 0, 0, 1, 1, 1, 0, 0, 1, 0, 1, 0, 1, 1, 0, 1, 0, 0, 1, 0,\n",
              "       1, 1, 0, 0, 1, 0, 1, 0, 0, 1, 0, 1, 0, 1, 1, 1, 0, 0, 1, 0, 1, 0,\n",
              "       0, 0, 1, 0, 0, 0, 0, 1, 1, 1, 0, 0, 0, 0, 0, 0, 0, 0, 0, 1, 0, 0,\n",
              "       0, 0, 0, 1, 1, 1, 0, 1, 1, 0, 0, 1, 0, 0, 1, 0, 0, 1, 1, 0, 0, 0,\n",
              "       0, 1, 0, 0, 1, 0, 0, 0, 0, 0, 0, 0, 1, 1, 1, 0, 0, 1, 0, 0, 1, 0,\n",
              "       0, 1, 0, 1, 1, 0, 1, 0, 1, 0, 1, 0, 1, 1, 0, 0, 0, 0, 1, 1, 0, 1,\n",
              "       0, 1, 0, 0, 0, 0, 1, 1, 0, 1, 0, 1, 0, 0, 0, 0, 0, 1, 0, 0, 0, 0,\n",
              "       1, 0, 0, 1, 1, 1, 0, 0, 1, 0, 0, 1, 0, 0, 0, 1, 0, 0, 1, 0, 0, 0,\n",
              "       0, 0, 0, 0, 0, 0, 1, 0, 0, 0, 0, 0, 0, 0, 1, 0, 0, 0, 1, 0, 0, 0,\n",
              "       1, 1, 0, 0, 0, 0, 0, 0, 0, 1, 0, 0, 0, 0, 1, 0, 0, 0, 1, 0, 0, 0,\n",
              "       1, 0, 0, 0, 1, 0, 0, 0, 0, 1, 1, 0, 0, 0, 0, 0, 0, 1, 0, 0, 0, 0,\n",
              "       0, 0, 0, 0, 0, 0, 0, 1, 0, 0, 0, 1, 1, 1, 1, 0, 0, 1, 1, 0, 0, 0,\n",
              "       0, 0, 0, 0, 0, 0, 0, 0, 0, 0, 1, 1, 0, 0, 0, 0, 0, 0, 0, 1, 0, 0,\n",
              "       0, 0, 0, 0, 0, 1, 0, 1, 1, 0, 0, 0, 1, 0, 1, 0, 1, 0, 1, 0, 1, 0,\n",
              "       0, 1, 0, 0, 1, 0, 0, 0, 0, 1, 1, 0, 1, 0, 0, 0, 0, 1, 1, 0, 1, 0,\n",
              "       0, 0, 1, 1, 0, 0, 0, 0, 0, 0, 0, 0, 0, 0, 1, 0, 0, 0, 0, 1, 0, 0,\n",
              "       1, 0, 0, 0, 1, 0, 0, 0, 1, 1, 1, 0, 0, 0, 0, 0, 0, 1, 0, 0, 0, 1,\n",
              "       0, 1, 1, 1, 1, 0, 1, 1, 0, 0, 0, 0, 0, 0, 0, 1, 1, 0, 1, 0, 0, 1,\n",
              "       0, 1, 0, 0, 0, 0, 0, 1, 0, 1, 0, 1, 0, 1, 1, 0, 0, 0, 0, 1, 1, 0,\n",
              "       0, 0, 1, 0, 1, 1, 0, 0, 1, 0, 0, 1, 1, 0, 0, 1, 0, 0, 1, 0, 0, 0,\n",
              "       0, 0, 0, 0, 1, 1, 1, 0, 0, 0, 0, 0, 0, 1, 1, 0, 0, 1, 0, 0, 1, 0,\n",
              "       1, 1, 1, 0, 0, 1, 1, 1, 0, 1, 0, 1, 0, 1, 0, 0, 0, 0, 1, 0])"
            ]
          },
          "metadata": {},
          "execution_count": 7
        }
      ]
    },
    {
      "cell_type": "code",
      "source": [
        "from sklearn.model_selection import train_test_split\n",
        "x_train , x_test , y_train , y_test = train_test_split(x,y,test_size = 0.2,random_state = 0)"
      ],
      "metadata": {
        "id": "Z5_o7CgwPhw-"
      },
      "execution_count": 8,
      "outputs": []
    },
    {
      "cell_type": "code",
      "source": [
        "from sklearn.preprocessing import StandardScaler\n",
        "sc = StandardScaler()\n",
        "x_train = sc.fit_transform(x_train)\n",
        "x_test = sc.transform(x_test)"
      ],
      "metadata": {
        "id": "ZGh3RJcyP9DG"
      },
      "execution_count": 9,
      "outputs": []
    },
    {
      "cell_type": "code",
      "source": [
        "import keras\n",
        "from keras.models import Sequential\n",
        "from keras.layers import Dense\n",
        "from sklearn import metrics"
      ],
      "metadata": {
        "id": "5th2zTWyQQH0"
      },
      "execution_count": 10,
      "outputs": []
    },
    {
      "cell_type": "code",
      "source": [
        "classifier = Sequential()"
      ],
      "metadata": {
        "id": "vqrBAGpiQupA"
      },
      "execution_count": 11,
      "outputs": []
    },
    {
      "cell_type": "markdown",
      "source": [
        "model 1 with 2 hidden layers and 10 epochs"
      ],
      "metadata": {
        "id": "L6msp3rpyuLw"
      }
    },
    {
      "cell_type": "code",
      "source": [
        "classifier.add(Dense(units = 6 , kernel_initializer = 'uniform',activation = 'relu' , input_dim = 8))"
      ],
      "metadata": {
        "id": "B7YPboSJQZCX"
      },
      "execution_count": 12,
      "outputs": []
    },
    {
      "cell_type": "code",
      "source": [
        "classifier.add(Dense(units = 6 , kernel_initializer = 'uniform',activation = 'relu'))"
      ],
      "metadata": {
        "id": "KfaDAtEJQ06Y"
      },
      "execution_count": 13,
      "outputs": []
    },
    {
      "cell_type": "code",
      "source": [
        "classifier.add(Dense(units = 6 , kernel_initializer = 'uniform',activation = 'relu'))"
      ],
      "metadata": {
        "id": "iDuWTq28ulMG"
      },
      "execution_count": 14,
      "outputs": []
    },
    {
      "cell_type": "code",
      "source": [
        "classifier.add(Dense(units = 1 , kernel_initializer = 'uniform',activation = 'sigmoid'))"
      ],
      "metadata": {
        "id": "9Iy88Y4GQ9XO"
      },
      "execution_count": 15,
      "outputs": []
    },
    {
      "cell_type": "code",
      "source": [
        "classifier.compile(optimizer = 'adam', loss = 'binary_crossentropy', metrics = ['accuracy'])"
      ],
      "metadata": {
        "id": "hQlJ3I0RRLiU"
      },
      "execution_count": 16,
      "outputs": []
    },
    {
      "cell_type": "code",
      "source": [
        "classifier.fit(x_train,y_train, batch_size = 10,epochs = 10)"
      ],
      "metadata": {
        "colab": {
          "base_uri": "https://localhost:8080/"
        },
        "id": "0cqCXR2pRbkx",
        "outputId": "8458fd8f-ebb2-417a-9e25-8e2d4e272f6b"
      },
      "execution_count": 17,
      "outputs": [
        {
          "output_type": "stream",
          "name": "stdout",
          "text": [
            "Epoch 1/10\n",
            "62/62 [==============================] - 2s 3ms/step - loss: 0.6899 - accuracy: 0.6384\n",
            "Epoch 2/10\n",
            "62/62 [==============================] - 0s 2ms/step - loss: 0.6742 - accuracy: 0.6401\n",
            "Epoch 3/10\n",
            "62/62 [==============================] - 0s 3ms/step - loss: 0.6129 - accuracy: 0.6401\n",
            "Epoch 4/10\n",
            "62/62 [==============================] - 0s 3ms/step - loss: 0.5446 - accuracy: 0.6401\n",
            "Epoch 5/10\n",
            "62/62 [==============================] - 0s 3ms/step - loss: 0.5262 - accuracy: 0.6987\n",
            "Epoch 6/10\n",
            "62/62 [==============================] - 0s 4ms/step - loss: 0.5161 - accuracy: 0.7638\n",
            "Epoch 7/10\n",
            "62/62 [==============================] - 0s 4ms/step - loss: 0.5077 - accuracy: 0.7736\n",
            "Epoch 8/10\n",
            "62/62 [==============================] - 0s 3ms/step - loss: 0.5004 - accuracy: 0.7687\n",
            "Epoch 9/10\n",
            "62/62 [==============================] - 0s 3ms/step - loss: 0.4938 - accuracy: 0.7752\n",
            "Epoch 10/10\n",
            "62/62 [==============================] - 0s 3ms/step - loss: 0.4887 - accuracy: 0.7785\n"
          ]
        },
        {
          "output_type": "execute_result",
          "data": {
            "text/plain": [
              "<keras.src.callbacks.History at 0x7e07e143dde0>"
            ]
          },
          "metadata": {},
          "execution_count": 17
        }
      ]
    },
    {
      "cell_type": "code",
      "source": [
        "y_pred = classifier.predict(x_test)"
      ],
      "metadata": {
        "colab": {
          "base_uri": "https://localhost:8080/"
        },
        "id": "KnBoVmEQuuS7",
        "outputId": "08830516-a3b1-4d21-8215-5d498aa936bc"
      },
      "execution_count": 18,
      "outputs": [
        {
          "output_type": "stream",
          "name": "stdout",
          "text": [
            "5/5 [==============================] - 0s 5ms/step\n"
          ]
        }
      ]
    },
    {
      "cell_type": "code",
      "source": [
        "y_pred = y_pred>0.5"
      ],
      "metadata": {
        "id": "n-JMWvDAuzrN"
      },
      "execution_count": 19,
      "outputs": []
    },
    {
      "cell_type": "code",
      "source": [
        "pred = metrics.accuracy_score(y_test,y_pred)\n",
        "print(pred*100)"
      ],
      "metadata": {
        "colab": {
          "base_uri": "https://localhost:8080/"
        },
        "id": "G6DNqon6u4HD",
        "outputId": "002ff934-3802-4881-b9d0-22a65833bcca"
      },
      "execution_count": 20,
      "outputs": [
        {
          "output_type": "stream",
          "name": "stdout",
          "text": [
            "77.92207792207793\n"
          ]
        }
      ]
    },
    {
      "cell_type": "markdown",
      "source": [
        "# Model 2 with 3 hidden layers\n"
      ],
      "metadata": {
        "id": "OGqo5BNGy35Q"
      }
    },
    {
      "cell_type": "code",
      "source": [
        "\n",
        "classifier.add(Dense(units=6,kernel_initializer='he_normal',activation='relu',input_dim=8))\n"
      ],
      "metadata": {
        "id": "kMLYDez0vGYy"
      },
      "execution_count": 21,
      "outputs": []
    },
    {
      "cell_type": "code",
      "source": [
        "classifier.add(Dense(units=6,kernel_initializer='he_normal',activation='relu'))\n"
      ],
      "metadata": {
        "id": "DLKlCX3-wcf8"
      },
      "execution_count": 22,
      "outputs": []
    },
    {
      "cell_type": "code",
      "source": [
        "classifier.add(Dense(units=6,kernel_initializer='he_normal',activation='relu'))\n"
      ],
      "metadata": {
        "id": "RnViaARuwd3d"
      },
      "execution_count": 23,
      "outputs": []
    },
    {
      "cell_type": "code",
      "source": [
        "classifier.add(Dense(units=6,kernel_initializer='he_normal',activation='relu'))\n"
      ],
      "metadata": {
        "id": "GWPc6k-Dwgw2"
      },
      "execution_count": 24,
      "outputs": []
    },
    {
      "cell_type": "code",
      "source": [
        "classifier.add(Dense(units=1,kernel_initializer='uniform',activation='sigmoid'))\n"
      ],
      "metadata": {
        "id": "HrrZ7inkwiZR"
      },
      "execution_count": 25,
      "outputs": []
    },
    {
      "cell_type": "code",
      "source": [
        "classifier.compile(optimizer=\"adam\",loss='binary_crossentropy',metrics=['accuracy'])\n"
      ],
      "metadata": {
        "id": "K1kIisXhwj29"
      },
      "execution_count": 26,
      "outputs": []
    },
    {
      "cell_type": "code",
      "source": [
        "classifier.fit(x_train,y_train,batch_size=10,epochs=20)\n"
      ],
      "metadata": {
        "colab": {
          "base_uri": "https://localhost:8080/"
        },
        "id": "7k86j9Wowli0",
        "outputId": "84a0fa81-7abd-4298-9bf5-f28587cbc3f0"
      },
      "execution_count": 27,
      "outputs": [
        {
          "output_type": "stream",
          "name": "stdout",
          "text": [
            "Epoch 1/20\n",
            "62/62 [==============================] - 3s 6ms/step - loss: 0.6882 - accuracy: 0.7410\n",
            "Epoch 2/20\n",
            "62/62 [==============================] - 0s 2ms/step - loss: 0.6716 - accuracy: 0.7736\n",
            "Epoch 3/20\n",
            "62/62 [==============================] - 0s 3ms/step - loss: 0.6421 - accuracy: 0.7834\n",
            "Epoch 4/20\n",
            "62/62 [==============================] - 0s 3ms/step - loss: 0.6076 - accuracy: 0.7736\n",
            "Epoch 5/20\n",
            "62/62 [==============================] - 0s 3ms/step - loss: 0.5786 - accuracy: 0.7752\n",
            "Epoch 6/20\n",
            "62/62 [==============================] - 0s 3ms/step - loss: 0.5525 - accuracy: 0.7785\n",
            "Epoch 7/20\n",
            "62/62 [==============================] - 0s 2ms/step - loss: 0.5338 - accuracy: 0.7818\n",
            "Epoch 8/20\n",
            "62/62 [==============================] - 0s 3ms/step - loss: 0.5201 - accuracy: 0.7801\n",
            "Epoch 9/20\n",
            "62/62 [==============================] - 0s 3ms/step - loss: 0.5091 - accuracy: 0.7752\n",
            "Epoch 10/20\n",
            "62/62 [==============================] - 0s 3ms/step - loss: 0.5015 - accuracy: 0.7850\n",
            "Epoch 11/20\n",
            "62/62 [==============================] - 0s 3ms/step - loss: 0.4969 - accuracy: 0.7866\n",
            "Epoch 12/20\n",
            "62/62 [==============================] - 0s 2ms/step - loss: 0.4902 - accuracy: 0.7834\n",
            "Epoch 13/20\n",
            "62/62 [==============================] - 0s 2ms/step - loss: 0.4870 - accuracy: 0.7834\n",
            "Epoch 14/20\n",
            "62/62 [==============================] - 0s 3ms/step - loss: 0.4839 - accuracy: 0.7883\n",
            "Epoch 15/20\n",
            "62/62 [==============================] - 0s 3ms/step - loss: 0.4820 - accuracy: 0.7866\n",
            "Epoch 16/20\n",
            "62/62 [==============================] - 0s 3ms/step - loss: 0.4780 - accuracy: 0.7866\n",
            "Epoch 17/20\n",
            "62/62 [==============================] - 0s 3ms/step - loss: 0.4774 - accuracy: 0.7932\n",
            "Epoch 18/20\n",
            "62/62 [==============================] - 0s 3ms/step - loss: 0.4730 - accuracy: 0.7899\n",
            "Epoch 19/20\n",
            "62/62 [==============================] - 0s 3ms/step - loss: 0.4717 - accuracy: 0.7883\n",
            "Epoch 20/20\n",
            "62/62 [==============================] - 0s 3ms/step - loss: 0.4708 - accuracy: 0.7883\n"
          ]
        },
        {
          "output_type": "execute_result",
          "data": {
            "text/plain": [
              "<keras.src.callbacks.History at 0x7e07e1b824a0>"
            ]
          },
          "metadata": {},
          "execution_count": 27
        }
      ]
    },
    {
      "cell_type": "code",
      "source": [
        "y_pred=classifier.predict(x_test)\n",
        "y_pred=y_pred>0.5\n",
        "\n",
        "prediction=metrics.accuracy_score(y_test,y_pred)\n",
        "print(\"accuracy:\",prediction *100,\"%\")"
      ],
      "metadata": {
        "colab": {
          "base_uri": "https://localhost:8080/"
        },
        "id": "CIpXq45uwnHj",
        "outputId": "1cd70803-32d9-4af0-da48-feb34177a2ca"
      },
      "execution_count": 28,
      "outputs": [
        {
          "output_type": "stream",
          "name": "stdout",
          "text": [
            "5/5 [==============================] - 0s 3ms/step\n",
            "accuracy: 78.57142857142857 %\n"
          ]
        }
      ]
    },
    {
      "cell_type": "markdown",
      "source": [
        "#model 3 with 3 hidden layers , using \"uniform\" initalizer and epoch = 15"
      ],
      "metadata": {
        "id": "kp-kvZDsy7bP"
      }
    },
    {
      "cell_type": "code",
      "source": [
        "\n",
        "classifier.add(Dense(units=6,kernel_initializer='uniform',activation='relu',input_dim=8))\n",
        "classifier.add(Dense(units=6,kernel_initializer='uniform',activation='relu'))\n",
        "classifier.add(Dense(units=6,kernel_initializer='uniform',activation='relu'))\n",
        "classifier.add(Dense(units=6,kernel_initializer='uniform',activation='relu'))\n",
        "classifier.add(Dense(units=1,kernel_initializer='uniform',activation='sigmoid'))\n",
        "classifier.compile(optimizer=\"adam\",loss='binary_crossentropy',metrics=['accuracy'])\n",
        "classifier.fit(x_train,y_train,batch_size=10,epochs=15)\n",
        "y_pred=classifier.predict(x_test)\n",
        "y_pred=y_pred>0.5\n",
        "\n",
        "prediction=metrics.accuracy_score(y_test,y_pred)\n",
        "print(\"accuracy:\",prediction *100,\"%\")"
      ],
      "metadata": {
        "colab": {
          "base_uri": "https://localhost:8080/"
        },
        "id": "AB9NdyIoxpcY",
        "outputId": "0851529d-97a0-42d9-a90b-d70730189af0"
      },
      "execution_count": 29,
      "outputs": [
        {
          "output_type": "stream",
          "name": "stdout",
          "text": [
            "Epoch 1/15\n",
            "62/62 [==============================] - 7s 8ms/step - loss: 0.6896 - accuracy: 0.6401\n",
            "Epoch 2/15\n",
            "62/62 [==============================] - 0s 7ms/step - loss: 0.6807 - accuracy: 0.6401\n",
            "Epoch 3/15\n",
            "62/62 [==============================] - 0s 7ms/step - loss: 0.6686 - accuracy: 0.6401\n",
            "Epoch 4/15\n",
            "62/62 [==============================] - 1s 11ms/step - loss: 0.6505 - accuracy: 0.6401\n",
            "Epoch 5/15\n",
            "62/62 [==============================] - 0s 8ms/step - loss: 0.6309 - accuracy: 0.6401\n",
            "Epoch 6/15\n",
            "62/62 [==============================] - 0s 7ms/step - loss: 0.6100 - accuracy: 0.6401\n",
            "Epoch 7/15\n",
            "62/62 [==============================] - 1s 8ms/step - loss: 0.5849 - accuracy: 0.6401\n",
            "Epoch 8/15\n",
            "62/62 [==============================] - 0s 7ms/step - loss: 0.5626 - accuracy: 0.6401\n",
            "Epoch 9/15\n",
            "62/62 [==============================] - 1s 10ms/step - loss: 0.5395 - accuracy: 0.6401\n",
            "Epoch 10/15\n",
            "62/62 [==============================] - 1s 8ms/step - loss: 0.5181 - accuracy: 0.6401\n",
            "Epoch 11/15\n",
            "62/62 [==============================] - 0s 8ms/step - loss: 0.5079 - accuracy: 0.7280\n",
            "Epoch 12/15\n",
            "62/62 [==============================] - 0s 7ms/step - loss: 0.5023 - accuracy: 0.7997\n",
            "Epoch 13/15\n",
            "62/62 [==============================] - 0s 6ms/step - loss: 0.4978 - accuracy: 0.8046\n",
            "Epoch 14/15\n",
            "62/62 [==============================] - 0s 7ms/step - loss: 0.4955 - accuracy: 0.8029\n",
            "Epoch 15/15\n",
            "62/62 [==============================] - 1s 9ms/step - loss: 0.4920 - accuracy: 0.8078\n",
            "5/5 [==============================] - 0s 8ms/step\n",
            "accuracy: 73.37662337662337 %\n"
          ]
        }
      ]
    },
    {
      "cell_type": "markdown",
      "source": [
        "#model 4 with 1 hidden layers"
      ],
      "metadata": {
        "id": "fSKBs7pty9U6"
      }
    },
    {
      "cell_type": "code",
      "source": [
        "\n",
        "classifier.add(Dense(units=6,kernel_initializer='uniform',activation='relu',input_dim=8))\n",
        "classifier.add(Dense(units=6,kernel_initializer='uniform',activation='relu'))\n",
        "classifier.add(Dense(units=1,kernel_initializer='uniform',activation='sigmoid'))\n",
        "classifier.compile(optimizer=\"adam\",loss='binary_crossentropy',metrics=['accuracy'])\n",
        "classifier.fit(x_train,y_train,batch_size=10,epochs=10)\n",
        "y_pred=classifier.predict(x_test)\n",
        "y_pred=y_pred>0.5\n",
        "\n",
        "prediction=metrics.accuracy_score(y_test,y_pred)\n",
        "print(\"accuracy:\",prediction *100,\"%\")"
      ],
      "metadata": {
        "colab": {
          "base_uri": "https://localhost:8080/"
        },
        "id": "v-XCqmWByNjK",
        "outputId": "57d02d84-e8ad-4756-ec66-80b40a86ca4e"
      },
      "execution_count": 31,
      "outputs": [
        {
          "output_type": "stream",
          "name": "stdout",
          "text": [
            "Epoch 1/10\n",
            "62/62 [==============================] - 5s 8ms/step - loss: 0.6900 - accuracy: 0.6401\n",
            "Epoch 2/10\n",
            "62/62 [==============================] - 0s 8ms/step - loss: 0.6815 - accuracy: 0.6401\n",
            "Epoch 3/10\n",
            "62/62 [==============================] - 1s 8ms/step - loss: 0.6708 - accuracy: 0.6401\n",
            "Epoch 4/10\n",
            "62/62 [==============================] - 1s 10ms/step - loss: 0.6616 - accuracy: 0.6401\n",
            "Epoch 5/10\n",
            "62/62 [==============================] - 1s 13ms/step - loss: 0.6558 - accuracy: 0.6401\n",
            "Epoch 6/10\n",
            "62/62 [==============================] - 2s 24ms/step - loss: 0.6543 - accuracy: 0.6401\n",
            "Epoch 7/10\n",
            "62/62 [==============================] - 1s 13ms/step - loss: 0.6538 - accuracy: 0.6401\n",
            "Epoch 8/10\n",
            "62/62 [==============================] - 1s 8ms/step - loss: 0.6541 - accuracy: 0.6401\n",
            "Epoch 9/10\n",
            "62/62 [==============================] - 0s 6ms/step - loss: 0.6538 - accuracy: 0.6401\n",
            "Epoch 10/10\n",
            "62/62 [==============================] - 0s 6ms/step - loss: 0.6537 - accuracy: 0.6401\n",
            "5/5 [==============================] - 0s 5ms/step\n",
            "accuracy: 69.48051948051948 %\n"
          ]
        }
      ]
    },
    {
      "cell_type": "markdown",
      "source": [
        "#model 5 with 3 layer and 20 epochs"
      ],
      "metadata": {
        "id": "Y2B9tmK-y_GC"
      }
    },
    {
      "cell_type": "code",
      "source": [
        "\n",
        "classifier.add(Dense(units=6,kernel_initializer='uniform',activation='relu',input_dim=8))\n",
        "classifier.add(Dense(units=6,kernel_initializer='uniform',activation='relu'))\n",
        "classifier.add(Dense(units=6,kernel_initializer='uniform',activation='relu'))\n",
        "classifier.add(Dense(units=6,kernel_initializer='uniform',activation='relu'))\n",
        "classifier.add(Dense(units=1,kernel_initializer='uniform',activation='sigmoid'))\n",
        "classifier.compile(optimizer=\"adam\",loss='binary_crossentropy',metrics=['accuracy'])\n",
        "classifier.fit(x_train,y_train,batch_size=10,epochs=20)\n",
        "y_pred=classifier.predict(x_test)\n",
        "y_pred=y_pred>0.5\n",
        "\n",
        "prediction=metrics.accuracy_score(y_test,y_pred)\n",
        "print(\"accuracy:\",prediction *100,\"%\")"
      ],
      "metadata": {
        "colab": {
          "base_uri": "https://localhost:8080/"
        },
        "id": "MzmStWZWydQ8",
        "outputId": "5229294f-cadc-4ed2-eb39-a8c4efc4f166"
      },
      "execution_count": 32,
      "outputs": [
        {
          "output_type": "stream",
          "name": "stdout",
          "text": [
            "Epoch 1/20\n",
            "62/62 [==============================] - 6s 5ms/step - loss: 0.6905 - accuracy: 0.6303\n",
            "Epoch 2/20\n",
            "62/62 [==============================] - 0s 4ms/step - loss: 0.6843 - accuracy: 0.6401\n",
            "Epoch 3/20\n",
            "62/62 [==============================] - 0s 4ms/step - loss: 0.6772 - accuracy: 0.6401\n",
            "Epoch 4/20\n",
            "62/62 [==============================] - 0s 4ms/step - loss: 0.6695 - accuracy: 0.6401\n",
            "Epoch 5/20\n",
            "62/62 [==============================] - 0s 4ms/step - loss: 0.6624 - accuracy: 0.6401\n",
            "Epoch 6/20\n",
            "62/62 [==============================] - 0s 4ms/step - loss: 0.6574 - accuracy: 0.6401\n",
            "Epoch 7/20\n",
            "62/62 [==============================] - 0s 4ms/step - loss: 0.6552 - accuracy: 0.6401\n",
            "Epoch 8/20\n",
            "62/62 [==============================] - 0s 4ms/step - loss: 0.6540 - accuracy: 0.6401\n",
            "Epoch 9/20\n",
            "62/62 [==============================] - 0s 5ms/step - loss: 0.6537 - accuracy: 0.6401\n",
            "Epoch 10/20\n",
            "62/62 [==============================] - 0s 4ms/step - loss: 0.6537 - accuracy: 0.6401\n",
            "Epoch 11/20\n",
            "62/62 [==============================] - 0s 5ms/step - loss: 0.6537 - accuracy: 0.6401\n",
            "Epoch 12/20\n",
            "62/62 [==============================] - 0s 4ms/step - loss: 0.6539 - accuracy: 0.6401\n",
            "Epoch 13/20\n",
            "62/62 [==============================] - 0s 4ms/step - loss: 0.6536 - accuracy: 0.6401\n",
            "Epoch 14/20\n",
            "62/62 [==============================] - 0s 4ms/step - loss: 0.6536 - accuracy: 0.6401\n",
            "Epoch 15/20\n",
            "62/62 [==============================] - 0s 4ms/step - loss: 0.6541 - accuracy: 0.6401\n",
            "Epoch 16/20\n",
            "62/62 [==============================] - 0s 4ms/step - loss: 0.6540 - accuracy: 0.6401\n",
            "Epoch 17/20\n",
            "62/62 [==============================] - 1s 10ms/step - loss: 0.6537 - accuracy: 0.6401\n",
            "Epoch 18/20\n",
            "62/62 [==============================] - 1s 11ms/step - loss: 0.6538 - accuracy: 0.6401\n",
            "Epoch 19/20\n",
            "62/62 [==============================] - 1s 8ms/step - loss: 0.6535 - accuracy: 0.6401\n",
            "Epoch 20/20\n",
            "62/62 [==============================] - 0s 7ms/step - loss: 0.6536 - accuracy: 0.6401\n",
            "5/5 [==============================] - 0s 4ms/step\n",
            "accuracy: 69.48051948051948 %\n"
          ]
        }
      ]
    }
  ]
}