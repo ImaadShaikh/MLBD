{
  "nbformat": 4,
  "nbformat_minor": 0,
  "metadata": {
    "colab": {
      "provenance": []
    },
    "kernelspec": {
      "name": "python3",
      "display_name": "Python 3"
    },
    "language_info": {
      "name": "python"
    }
  },
  "cells": [
    {
      "cell_type": "code",
      "execution_count": 4,
      "metadata": {
        "colab": {
          "base_uri": "https://localhost:8080/"
        },
        "id": "PGfBAnLJDTsl",
        "outputId": "2a44a900-8040-4bcd-f4cd-4bdfc00fdb1c"
      },
      "outputs": [
        {
          "output_type": "stream",
          "name": "stdout",
          "text": [
            "0\n",
            "0\n",
            "0\n",
            "1\n"
          ]
        }
      ],
      "source": [
        "def and_gate(x1,x2):\n",
        "  w1  = 1\n",
        "  w2 = 1\n",
        "  y_in = x1*w1 + x2*w2\n",
        "\n",
        "  if (x1 == 1 and x2 ==1):\n",
        "    y_actual = 1\n",
        "  else:\n",
        "    y_actual = 0\n",
        "\n",
        "  activation_function = 1 if y_actual >= 1 and y_in >= y_actual else 0\n",
        "\n",
        "  return activation_function\n",
        "\n",
        "# Test cases\n",
        "print(and_gate(0, 0))\n",
        "print(and_gate(0, 1))\n",
        "print(and_gate(1, 0))\n",
        "print(and_gate(1, 1))"
      ]
    },
    {
      "cell_type": "code",
      "source": [
        "#OR MP Net\n",
        "def or_gate(x1, x2):\n",
        "    w1=1\n",
        "    w2=1\n",
        "    y_in = x1 * w1 + x2 * w2\n",
        "\n",
        "    if(x1==1 or x2==1):\n",
        "      y_actual=1\n",
        "    else:\n",
        "      y_actual=0\n",
        "    activation_function = 1 if y_actual>=1 and y_in >= y_actual else 0\n",
        "\n",
        "    return activation_function\n",
        "\n",
        "# Test cases\n",
        "print(and_gate(0, 0))\n",
        "print(and_gate(0, 1))\n",
        "print(and_gate(1, 0))\n",
        "print(and_gate(1, 1))"
      ],
      "metadata": {
        "colab": {
          "base_uri": "https://localhost:8080/"
        },
        "id": "NYfkxAJeMw1M",
        "outputId": "0510f5e0-447a-4dfb-ec12-1b63988e37f6"
      },
      "execution_count": 5,
      "outputs": [
        {
          "output_type": "stream",
          "name": "stdout",
          "text": [
            "0\n",
            "1\n",
            "1\n",
            "1\n"
          ]
        }
      ]
    },
    {
      "cell_type": "code",
      "source": [
        "def nor_gate(x1, x2):\n",
        "\n",
        "    w1 = -1\n",
        "    w2 = -1\n",
        "    y_in = x1 * w1 + x2 * w2\n",
        "\n",
        "    threshold = -0.5  # Threshold for NOR operation\n",
        "    return 1 if y_in >= threshold else 0\n",
        "\n",
        "# Test cases\n",
        "print(nor_gate(0, 0))\n",
        "print(nor_gate(0, 1))\n",
        "print(nor_gate(1, 0))\n",
        "print(nor_gate(1, 1))"
      ],
      "metadata": {
        "colab": {
          "base_uri": "https://localhost:8080/"
        },
        "id": "2J4_hCMZecey",
        "outputId": "62cd9a25-3a9b-406a-cb39-0f4118604380"
      },
      "execution_count": 30,
      "outputs": [
        {
          "output_type": "stream",
          "name": "stdout",
          "text": [
            "1\n",
            "0\n",
            "0\n",
            "0\n"
          ]
        }
      ]
    },
    {
      "cell_type": "code",
      "source": [
        "def nand_gate(x1, x2):\n",
        "\n",
        "    w1 = -1\n",
        "    w2 = -1\n",
        "    y_in = x1 * w1 + x2 * w2\n",
        "\n",
        "    threshold = -1.5  # Threshold for NOR operation\n",
        "    return 1 if y_in >= threshold else 0\n",
        "\n",
        "# Test cases\n",
        "print(nor_gate(0, 0))\n",
        "print(nor_gate(0, 1))\n",
        "print(nor_gate(1, 0))\n",
        "print(nor_gate(1, 1))"
      ],
      "metadata": {
        "colab": {
          "base_uri": "https://localhost:8080/"
        },
        "id": "T6S7eiWIhff8",
        "outputId": "206de082-81c6-4be2-9e3f-23470c79abeb"
      },
      "execution_count": 28,
      "outputs": [
        {
          "output_type": "stream",
          "name": "stdout",
          "text": [
            "1\n",
            "1\n",
            "1\n",
            "0\n"
          ]
        }
      ]
    }
  ]
}